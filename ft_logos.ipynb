{
 "cells": [
  {
   "cell_type": "code",
   "execution_count": 1,
   "metadata": {},
   "outputs": [],
   "source": [
    "import os\n",
    "from dotenv import load_dotenv\n",
    "load_dotenv()\n",
    "import mysql.connector\n",
    "import pandas as pd\n",
    "import gspread\n",
    "import json\n",
    "\n",
    "# Access the environment variables.\n",
    "mydb_pass = os.getenv('MYDB_PASS')\n",
    "google_cred = os.getenv('GOOGLE_CRED')\n",
    "gc = gspread.service_account_from_dict(json.loads(google_cred.replace('\"', \"'\").replace(\"'\", '\"')))"
   ]
  },
  {
   "cell_type": "code",
   "execution_count": 2,
   "metadata": {},
   "outputs": [],
   "source": [
    "# pordreplica.cqof4esbua2o.us-west-2.rds.amazonaws.com\n",
    "host=\"production.cqof4esbua2o.us-west-2.rds.amazonaws.com\"\n",
    "user=\"leadershipDashboard\"\n",
    "password=mydb_pass\n",
    "database=\"ck_internal_data\"\n",
    "port=3306"
   ]
  },
  {
   "cell_type": "code",
   "execution_count": 3,
   "metadata": {},
   "outputs": [],
   "source": [
    "mydb = mysql.connector.connect(\n",
    "  host=host,\n",
    "  user=user,\n",
    "  password=password,\n",
    "  database=database,\n",
    "  port=port\n",
    ")\n",
    "\n",
    "mycursor = mydb.cursor()"
   ]
  },
  {
   "cell_type": "code",
   "execution_count": 4,
   "metadata": {},
   "outputs": [],
   "source": [
    "from sqlalchemy import create_engine\n",
    "\n",
    "def create_mysql_engine(user, password, host, port, database):\n",
    "    connection_string = f\"mysql+mysqlconnector://{user}:{password}@{host}:{port}/{database}\"\n",
    "    engine = create_engine(connection_string)\n",
    "    return engine\n"
   ]
  },
  {
   "cell_type": "code",
   "execution_count": 5,
   "metadata": {},
   "outputs": [
    {
     "data": {
      "text/html": [
       "<div>\n",
       "<style scoped>\n",
       "    .dataframe tbody tr th:only-of-type {\n",
       "        vertical-align: middle;\n",
       "    }\n",
       "\n",
       "    .dataframe tbody tr th {\n",
       "        vertical-align: top;\n",
       "    }\n",
       "\n",
       "    .dataframe thead th {\n",
       "        text-align: right;\n",
       "    }\n",
       "</style>\n",
       "<table border=\"1\" class=\"dataframe\">\n",
       "  <thead>\n",
       "    <tr style=\"text-align: right;\">\n",
       "      <th></th>\n",
       "      <th>corporate_id</th>\n",
       "      <th>hubspot_id</th>\n",
       "      <th>record_type</th>\n",
       "      <th>corporate_client</th>\n",
       "    </tr>\n",
       "  </thead>\n",
       "  <tbody>\n",
       "    <tr>\n",
       "      <th>0</th>\n",
       "      <td>91437895</td>\n",
       "      <td>4104406488</td>\n",
       "      <td>Managing Office</td>\n",
       "      <td>Aveda Fredric's Institute - Corporate Office</td>\n",
       "    </tr>\n",
       "    <tr>\n",
       "      <th>1</th>\n",
       "      <td>91985643</td>\n",
       "      <td>7529688760</td>\n",
       "      <td>Franchise</td>\n",
       "      <td>Aveda Fredric's Institute - Wilmington</td>\n",
       "    </tr>\n",
       "    <tr>\n",
       "      <th>2</th>\n",
       "      <td>91460906</td>\n",
       "      <td>4108671409</td>\n",
       "      <td>Managing Office</td>\n",
       "      <td>Douglas J Aveda Institute - Corporate Office</td>\n",
       "    </tr>\n",
       "    <tr>\n",
       "      <th>3</th>\n",
       "      <td>91460907</td>\n",
       "      <td>7722083416</td>\n",
       "      <td>Franchise</td>\n",
       "      <td>Douglas J Aveda Institute - Grand Rapids</td>\n",
       "    </tr>\n",
       "    <tr>\n",
       "      <th>4</th>\n",
       "      <td>91460911</td>\n",
       "      <td>7722270265</td>\n",
       "      <td>Franchise</td>\n",
       "      <td>Douglas J Aveda Institute - East Lansing</td>\n",
       "    </tr>\n",
       "  </tbody>\n",
       "</table>\n",
       "</div>"
      ],
      "text/plain": [
       "   corporate_id  hubspot_id      record_type  \\\n",
       "0      91437895  4104406488  Managing Office   \n",
       "1      91985643  7529688760        Franchise   \n",
       "2      91460906  4108671409  Managing Office   \n",
       "3      91460907  7722083416        Franchise   \n",
       "4      91460911  7722270265        Franchise   \n",
       "\n",
       "                               corporate_client  \n",
       "0  Aveda Fredric's Institute - Corporate Office  \n",
       "1        Aveda Fredric's Institute - Wilmington  \n",
       "2  Douglas J Aveda Institute - Corporate Office  \n",
       "3      Douglas J Aveda Institute - Grand Rapids  \n",
       "4      Douglas J Aveda Institute - East Lansing  "
      ]
     },
     "execution_count": 5,
     "metadata": {},
     "output_type": "execute_result"
    }
   ],
   "source": [
    "# Get info from google sheet\n",
    "id_mapping = gc.open_by_url('https://docs.google.com/spreadsheets/d/1NzExg0HSoyrpTSkd9A49EOB4XAWZCh00w9An5p3rKa0/edit#gid=726799529')\n",
    "ft_logos_gs = pd.DataFrame(id_mapping.worksheet('ft_logos').get_all_records())\n",
    "ft_logos_gs.head()"
   ]
  },
  {
   "cell_type": "code",
   "execution_count": 6,
   "metadata": {},
   "outputs": [],
   "source": [
    "def dataframe_to_mysql(df, table_name, engine, if_exists=\"fail\", index=False):\n",
    "    \"\"\"\n",
    "    Load a DataFrame into a MySQL table.\n",
    "    \n",
    "    Parameters:\n",
    "    - df (pandas.DataFrame): DataFrame to load.\n",
    "    - table_name (str): Name of the table in the MySQL database.\n",
    "    - engine (sqlalchemy.engine): SQLAlchemy engine instance.\n",
    "    - if_exists (str): What to do if the table already exists. Options: \"fail\", \"replace\", \"append\". Default: \"fail\".\n",
    "    - index (bool): Whether to write the DataFrame's index to the table. Default: False.\n",
    "    \"\"\"\n",
    "    df.to_sql(table_name, engine, if_exists=if_exists, index=index)"
   ]
  },
  {
   "cell_type": "code",
   "execution_count": 7,
   "metadata": {},
   "outputs": [],
   "source": [
    "# Write data to MySQL\n",
    "engine = create_mysql_engine(user, password, host, 3306, database)\n",
    "dataframe_to_mysql(ft_logos_gs, 'ft_logos', engine, if_exists=\"replace\")"
   ]
  },
  {
   "cell_type": "code",
   "execution_count": 9,
   "metadata": {},
   "outputs": [],
   "source": [
    "# query = \"DROP TABLE IF EXISTS ft_logos;\"\n",
    "# mycursor.execute(query)"
   ]
  },
  {
   "cell_type": "code",
   "execution_count": 8,
   "metadata": {},
   "outputs": [],
   "source": [
    "query = \"\"\"ALTER TABLE ft_logos\n",
    "ADD PRIMARY KEY (corporate_id);\n",
    "\"\"\"\n",
    "mycursor.execute(query)"
   ]
  },
  {
   "cell_type": "code",
   "execution_count": 11,
   "metadata": {},
   "outputs": [],
   "source": [
    "query = \"\"\"\n",
    "ALTER TABLE ft_logos\n",
    "MODIFY corporate_id VARCHAR(255);\n",
    "\"\"\"\n",
    "mycursor.execute(query)"
   ]
  },
  {
   "cell_type": "code",
   "execution_count": null,
   "metadata": {},
   "outputs": [],
   "source": [
    "query = \"\"\"\n",
    "ALTER TABLE ft_logos\n",
    "MODIFY hubspot_id VARCHAR(255);\n",
    "\"\"\"\n",
    "mycursor.execute(query)"
   ]
  },
  {
   "cell_type": "code",
   "execution_count": 1,
   "metadata": {},
   "outputs": [],
   "source": [
    "query = '''ALTER TABLE ck_internal_data.ft_sites \n",
    "            ADD CONSTRAINT ft_sites_FK FOREIGN KEY (corporate_id) \n",
    "                REFERENCES ck_internal_data.ft_logos(corporate_id);\n",
    "'''\n",
    "mycursor.execute(query)"
   ]
  },
  {
   "cell_type": "code",
   "execution_count": null,
   "metadata": {},
   "outputs": [],
   "source": []
  }
 ],
 "metadata": {
  "kernelspec": {
   "display_name": "mysql_venv",
   "language": "python",
   "name": "python3"
  },
  "language_info": {
   "codemirror_mode": {
    "name": "ipython",
    "version": 3
   },
   "file_extension": ".py",
   "mimetype": "text/x-python",
   "name": "python",
   "nbconvert_exporter": "python",
   "pygments_lexer": "ipython3",
   "version": "3.10.9"
  },
  "orig_nbformat": 4
 },
 "nbformat": 4,
 "nbformat_minor": 2
}
